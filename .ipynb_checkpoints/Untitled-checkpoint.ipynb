{
 "cells": [
  {
   "cell_type": "raw",
   "source": [],
   "metadata": {
    "collapsed": false
   },
   "id": "4e203acfc879f852"
  }
 ],
 "metadata": {},
 "nbformat": 4,
 "nbformat_minor": 5
}
